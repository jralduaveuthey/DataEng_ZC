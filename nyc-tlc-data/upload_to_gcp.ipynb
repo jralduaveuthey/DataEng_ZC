{
 "cells": [
  {
   "cell_type": "code",
   "execution_count": 1,
   "metadata": {},
   "outputs": [
    {
     "name": "stderr",
     "output_type": "stream",
     "text": [
      "c:\\Users\\jraldua-veuthey\\.virtualenvs\\data-eng-zc-gcp-aws-Y2KD2JE8\\lib\\site-packages\\google\\auth\\_default.py:83: UserWarning: Your application has authenticated using end user credentials from Google Cloud SDK without a quota project. You might receive a \"quota exceeded\" or \"API not enabled\" error. We recommend you rerun `gcloud auth application-default login` and make sure a quota project is added. Or you can use service accounts instead. For more information about service accounts, see https://cloud.google.com/docs/authentication/\n",
      "  warnings.warn(_CLOUD_SDK_CREDENTIALS_WARNING)\n"
     ]
    }
   ],
   "source": [
    "from google.cloud import storage\n",
    "import random\n",
    "import string\n",
    "\n",
    "client = storage.Client(project=\"dtc-de-375211\")\n",
    "bucket_name = \"trip_data\"\n"
   ]
  },
  {
   "cell_type": "code",
   "execution_count": 2,
   "metadata": {},
   "outputs": [],
   "source": [
    "bucket_name = \"trip_data-dtc-de-zc\"\n",
    "buckets = list(client.list_buckets(prefix=bucket_name))\n",
    "\n",
    "if len(buckets) == 0 or buckets[0].name != bucket_name:\n",
    "    bucket = client.create_bucket(bucket_name)\n",
    "    print(\"Created bucket {}.\".format(bucket.name))\n",
    "else:\n",
    "    bucket = buckets[0]"
   ]
  },
  {
   "cell_type": "code",
   "execution_count": 3,
   "metadata": {},
   "outputs": [
    {
     "name": "stdout",
     "output_type": "stream",
     "text": [
      "... yellow_tripdata_2019-01.csv already exists in the bucket trip_data-dtc-de-zc.\n",
      "... yellow_tripdata_2019-02.csv already exists in the bucket trip_data-dtc-de-zc.\n",
      "... yellow_tripdata_2019-03.csv already exists in the bucket trip_data-dtc-de-zc.\n",
      "... yellow_tripdata_2019-04.csv already exists in the bucket trip_data-dtc-de-zc.\n",
      "... yellow_tripdata_2019-05.csv already exists in the bucket trip_data-dtc-de-zc.\n",
      "... yellow_tripdata_2019-06.csv already exists in the bucket trip_data-dtc-de-zc.\n",
      "... yellow_tripdata_2019-07.csv already exists in the bucket trip_data-dtc-de-zc.\n",
      "... yellow_tripdata_2019-08.csv already exists in the bucket trip_data-dtc-de-zc.\n",
      "... yellow_tripdata_2019-09.csv already exists in the bucket trip_data-dtc-de-zc.\n",
      "... yellow_tripdata_2019-10.csv already exists in the bucket trip_data-dtc-de-zc.\n",
      "... yellow_tripdata_2019-11.csv already exists in the bucket trip_data-dtc-de-zc.\n",
      "... yellow_tripdata_2019-12.csv already exists in the bucket trip_data-dtc-de-zc.\n",
      "... yellow_tripdata_2020-01.csv already exists in the bucket trip_data-dtc-de-zc.\n",
      "... yellow_tripdata_2020-02.csv already exists in the bucket trip_data-dtc-de-zc.\n",
      "... yellow_tripdata_2020-03.csv already exists in the bucket trip_data-dtc-de-zc.\n",
      "... yellow_tripdata_2020-04.csv already exists in the bucket trip_data-dtc-de-zc.\n",
      "... yellow_tripdata_2020-05.csv already exists in the bucket trip_data-dtc-de-zc.\n",
      "... yellow_tripdata_2020-06.csv already exists in the bucket trip_data-dtc-de-zc.\n",
      "... yellow_tripdata_2020-07.csv already exists in the bucket trip_data-dtc-de-zc.\n",
      "... yellow_tripdata_2020-08.csv already exists in the bucket trip_data-dtc-de-zc.\n",
      "... yellow_tripdata_2020-09.csv already exists in the bucket trip_data-dtc-de-zc.\n",
      "... yellow_tripdata_2020-10.csv already exists in the bucket trip_data-dtc-de-zc.\n",
      "... yellow_tripdata_2020-11.csv already exists in the bucket trip_data-dtc-de-zc.\n",
      "... yellow_tripdata_2020-12.csv already exists in the bucket trip_data-dtc-de-zc.\n",
      "... yellow_tripdata_2021-01.csv already exists in the bucket trip_data-dtc-de-zc.\n",
      "... yellow_tripdata_2021-02.csv already exists in the bucket trip_data-dtc-de-zc.\n",
      "... yellow_tripdata_2021-03.csv already exists in the bucket trip_data-dtc-de-zc.\n",
      "... yellow_tripdata_2021-04.csv already exists in the bucket trip_data-dtc-de-zc.\n",
      "... yellow_tripdata_2021-05.csv already exists in the bucket trip_data-dtc-de-zc.\n",
      "... yellow_tripdata_2021-06.csv already exists in the bucket trip_data-dtc-de-zc.\n",
      "... yellow_tripdata_2021-07.csv already exists in the bucket trip_data-dtc-de-zc.\n",
      "... green_tripdata_2019-01.csv already exists in the bucket trip_data-dtc-de-zc.\n",
      "... green_tripdata_2019-02.csv already exists in the bucket trip_data-dtc-de-zc.\n",
      "... green_tripdata_2019-03.csv already exists in the bucket trip_data-dtc-de-zc.\n",
      "... green_tripdata_2019-04.csv already exists in the bucket trip_data-dtc-de-zc.\n",
      "... green_tripdata_2019-05.csv already exists in the bucket trip_data-dtc-de-zc.\n",
      "... green_tripdata_2019-06.csv already exists in the bucket trip_data-dtc-de-zc.\n",
      "... green_tripdata_2019-07.csv already exists in the bucket trip_data-dtc-de-zc.\n",
      "... green_tripdata_2019-08.csv already exists in the bucket trip_data-dtc-de-zc.\n",
      "... green_tripdata_2019-09.csv already exists in the bucket trip_data-dtc-de-zc.\n",
      "... green_tripdata_2019-10.csv already exists in the bucket trip_data-dtc-de-zc.\n",
      "... green_tripdata_2019-11.csv already exists in the bucket trip_data-dtc-de-zc.\n",
      "... green_tripdata_2019-12.csv already exists in the bucket trip_data-dtc-de-zc.\n",
      "... green_tripdata_2020-01.csv already exists in the bucket trip_data-dtc-de-zc.\n",
      "... green_tripdata_2020-02.csv already exists in the bucket trip_data-dtc-de-zc.\n",
      "... green_tripdata_2020-03.csv already exists in the bucket trip_data-dtc-de-zc.\n",
      "... green_tripdata_2020-04.csv already exists in the bucket trip_data-dtc-de-zc.\n",
      "... green_tripdata_2020-05.csv already exists in the bucket trip_data-dtc-de-zc.\n",
      "... green_tripdata_2020-06.csv already exists in the bucket trip_data-dtc-de-zc.\n",
      "... green_tripdata_2020-07.csv already exists in the bucket trip_data-dtc-de-zc.\n",
      "... green_tripdata_2020-08.csv already exists in the bucket trip_data-dtc-de-zc.\n",
      "... green_tripdata_2020-09.csv already exists in the bucket trip_data-dtc-de-zc.\n",
      "... green_tripdata_2020-10.csv already exists in the bucket trip_data-dtc-de-zc.\n",
      "... green_tripdata_2020-11.csv already exists in the bucket trip_data-dtc-de-zc.\n",
      "... green_tripdata_2020-12.csv already exists in the bucket trip_data-dtc-de-zc.\n",
      "... green_tripdata_2021-01.csv already exists in the bucket trip_data-dtc-de-zc.\n",
      "... green_tripdata_2021-02.csv already exists in the bucket trip_data-dtc-de-zc.\n",
      "... green_tripdata_2021-03.csv already exists in the bucket trip_data-dtc-de-zc.\n",
      "... green_tripdata_2021-04.csv already exists in the bucket trip_data-dtc-de-zc.\n",
      "... green_tripdata_2021-05.csv already exists in the bucket trip_data-dtc-de-zc.\n",
      "... green_tripdata_2021-06.csv already exists in the bucket trip_data-dtc-de-zc.\n",
      "... green_tripdata_2021-07.csv already exists in the bucket trip_data-dtc-de-zc.\n"
     ]
    }
   ],
   "source": [
    "for folder_name in [\"yellow_csvs\", \"green_csvs\"]:\n",
    "    for file_name in os.listdir(folder_name):\n",
    "        if file_name.endswith(\".csv\"):\n",
    "            blob = bucket.blob(f\"{file_name}\")\n",
    "            #upload it only if it doesn't exist\n",
    "            if not blob.exists():\n",
    "                print(f\"Uploading {file_name} to the bucket {bucket.name}...\")\n",
    "                blob.upload_from_filename(f\"{folder_name}/{file_name}\")\n",
    "                print(f\"... Uploaded {file_name} to the bucket {bucket.name}.\")\n",
    "            else:\n",
    "                print(f\"... {file_name} already exists in the bucket {bucket.name}.\")"
   ]
  },
  {
   "cell_type": "code",
   "execution_count": 4,
   "metadata": {},
   "outputs": [
    {
     "name": "stdout",
     "output_type": "stream",
     "text": [
      "... fhv_tripdata_2019-02.csv already exists in the bucket trip_data-dtc-de-zc.\n",
      "... fhv_tripdata_2019-03.csv already exists in the bucket trip_data-dtc-de-zc.\n",
      "... fhv_tripdata_2019-04.csv already exists in the bucket trip_data-dtc-de-zc.\n",
      "... fhv_tripdata_2019-05.csv already exists in the bucket trip_data-dtc-de-zc.\n",
      "... fhv_tripdata_2019-06.csv already exists in the bucket trip_data-dtc-de-zc.\n",
      "... fhv_tripdata_2019-07.csv already exists in the bucket trip_data-dtc-de-zc.\n",
      "... fhv_tripdata_2019-08.csv already exists in the bucket trip_data-dtc-de-zc.\n",
      "... fhv_tripdata_2019-09.csv already exists in the bucket trip_data-dtc-de-zc.\n",
      "... fhv_tripdata_2019-10.csv already exists in the bucket trip_data-dtc-de-zc.\n",
      "... fhv_tripdata_2019-11.csv already exists in the bucket trip_data-dtc-de-zc.\n",
      "... fhv_tripdata_2019-12.csv already exists in the bucket trip_data-dtc-de-zc.\n",
      "... fhv_tripdata_2020-01.csv already exists in the bucket trip_data-dtc-de-zc.\n",
      "... fhv_tripdata_2020-02.csv already exists in the bucket trip_data-dtc-de-zc.\n",
      "... fhv_tripdata_2020-03.csv already exists in the bucket trip_data-dtc-de-zc.\n",
      "... fhv_tripdata_2020-04.csv already exists in the bucket trip_data-dtc-de-zc.\n",
      "... fhv_tripdata_2020-05.csv already exists in the bucket trip_data-dtc-de-zc.\n",
      "... fhv_tripdata_2020-06.csv already exists in the bucket trip_data-dtc-de-zc.\n",
      "... fhv_tripdata_2020-07.csv already exists in the bucket trip_data-dtc-de-zc.\n",
      "... fhv_tripdata_2020-08.csv already exists in the bucket trip_data-dtc-de-zc.\n",
      "... fhv_tripdata_2020-09.csv already exists in the bucket trip_data-dtc-de-zc.\n",
      "... fhv_tripdata_2020-10.csv already exists in the bucket trip_data-dtc-de-zc.\n",
      "... fhv_tripdata_2020-11.csv already exists in the bucket trip_data-dtc-de-zc.\n",
      "... fhv_tripdata_2020-12.csv already exists in the bucket trip_data-dtc-de-zc.\n",
      "... fhv_tripdata_2021-01.csv already exists in the bucket trip_data-dtc-de-zc.\n",
      "... fhv_tripdata_2021-02.csv already exists in the bucket trip_data-dtc-de-zc.\n",
      "... fhv_tripdata_2021-03.csv already exists in the bucket trip_data-dtc-de-zc.\n",
      "... fhv_tripdata_2021-04.csv already exists in the bucket trip_data-dtc-de-zc.\n",
      "... fhv_tripdata_2021-05.csv already exists in the bucket trip_data-dtc-de-zc.\n",
      "... fhv_tripdata_2021-06.csv already exists in the bucket trip_data-dtc-de-zc.\n",
      "... fhv_tripdata_2021-07.csv already exists in the bucket trip_data-dtc-de-zc.\n"
     ]
    }
   ],
   "source": [
    "for folder_name in [\"fhv_csvs\"]:\n",
    "    for file_name in os.listdir(folder_name):\n",
    "        if file_name.endswith(\".csv\"):\n",
    "            blob = bucket.blob(f\"{file_name}\")\n",
    "            #upload it only if it doesn't exist\n",
    "            if not blob.exists():\n",
    "                print(f\"Uploading {file_name} to the bucket {bucket.name}...\")\n",
    "                blob.upload_from_filename(f\"{folder_name}/{file_name}\")\n",
    "                print(f\"... Uploaded {file_name} to the bucket {bucket.name}.\")\n",
    "            else:\n",
    "                print(f\"... {file_name} already exists in the bucket {bucket.name}.\")"
   ]
  },
  {
   "cell_type": "code",
   "execution_count": null,
   "metadata": {},
   "outputs": [],
   "source": []
  }
 ],
 "metadata": {
  "kernelspec": {
   "display_name": "data-eng-zc-gcp-aws-Y2KD2JE8",
   "language": "python",
   "name": "python3"
  },
  "language_info": {
   "codemirror_mode": {
    "name": "ipython",
    "version": 3
   },
   "file_extension": ".py",
   "mimetype": "text/x-python",
   "name": "python",
   "nbconvert_exporter": "python",
   "pygments_lexer": "ipython3",
   "version": "3.10.0"
  },
  "orig_nbformat": 4,
  "vscode": {
   "interpreter": {
    "hash": "35dc32dd66dc6a9570e9158145834b007d61225e6c3cc4f50904136dd8e8a457"
   }
  }
 },
 "nbformat": 4,
 "nbformat_minor": 2
}
