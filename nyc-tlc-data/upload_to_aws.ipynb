{
 "cells": [
  {
   "cell_type": "code",
   "execution_count": 1,
   "metadata": {},
   "outputs": [],
   "source": [
    "import boto3\n",
    "import random\n",
    "import string\n",
    "import os\n",
    "\n",
    "s3 = boto3.client(\"s3\")\n",
    "bucket_name = \"trip-data-dtc-de-zc\"\n"
   ]
  },
  {
   "cell_type": "code",
   "execution_count": 2,
   "metadata": {},
   "outputs": [
    {
     "name": "stdout",
     "output_type": "stream",
     "text": [
      "Bucket trip-data-dtc-de-zc already exists.\n"
     ]
    }
   ],
   "source": [
    "buckets = [bucket['Name'] for bucket in s3.list_buckets()['Buckets']]\n",
    "\n",
    "if bucket_name not in buckets:\n",
    "    response = s3.create_bucket(Bucket=bucket_name, CreateBucketConfiguration={'LocationConstraint': 'eu-central-1'})\n",
    "    bucket_name = response[\"Location\"].split(\"/\")[2].split(\".\")[0]\n",
    "    print(\"Created bucket {}.\".format(bucket_name))\n",
    "else:\n",
    "    print(\"Bucket {} already exists.\".format(bucket_name))\n"
   ]
  },
  {
   "cell_type": "code",
   "execution_count": 3,
   "metadata": {},
   "outputs": [
    {
     "name": "stdout",
     "output_type": "stream",
     "text": [
      "File yellow_tripdata_2019-01.csv already exists in the bucket trip-data-dtc-de-zc.\n",
      "File yellow_tripdata_2019-02.csv already exists in the bucket trip-data-dtc-de-zc.\n",
      "File yellow_tripdata_2019-03.csv already exists in the bucket trip-data-dtc-de-zc.\n",
      "File yellow_tripdata_2019-04.csv already exists in the bucket trip-data-dtc-de-zc.\n",
      "File yellow_tripdata_2019-05.csv already exists in the bucket trip-data-dtc-de-zc.\n",
      "File yellow_tripdata_2019-06.csv already exists in the bucket trip-data-dtc-de-zc.\n",
      "File yellow_tripdata_2019-07.csv already exists in the bucket trip-data-dtc-de-zc.\n",
      "File yellow_tripdata_2019-08.csv already exists in the bucket trip-data-dtc-de-zc.\n",
      "File yellow_tripdata_2019-09.csv already exists in the bucket trip-data-dtc-de-zc.\n",
      "File yellow_tripdata_2019-10.csv already exists in the bucket trip-data-dtc-de-zc.\n",
      "File yellow_tripdata_2019-11.csv already exists in the bucket trip-data-dtc-de-zc.\n",
      "File yellow_tripdata_2019-12.csv already exists in the bucket trip-data-dtc-de-zc.\n",
      "File yellow_tripdata_2020-01.csv already exists in the bucket trip-data-dtc-de-zc.\n",
      "File yellow_tripdata_2020-02.csv already exists in the bucket trip-data-dtc-de-zc.\n",
      "File yellow_tripdata_2020-03.csv already exists in the bucket trip-data-dtc-de-zc.\n",
      "File yellow_tripdata_2020-04.csv already exists in the bucket trip-data-dtc-de-zc.\n",
      "File yellow_tripdata_2020-05.csv already exists in the bucket trip-data-dtc-de-zc.\n",
      "Uploading yellow_csvs\\yellow_tripdata_2020-06.csv to the bucket trip-data-dtc-de-zc...\n",
      "... Uploaded yellow_tripdata_2020-06.csv to the bucket trip-data-dtc-de-zc.\n",
      "File yellow_tripdata_2020-07.csv already exists in the bucket trip-data-dtc-de-zc.\n",
      "File yellow_tripdata_2020-08.csv already exists in the bucket trip-data-dtc-de-zc.\n",
      "File yellow_tripdata_2020-09.csv already exists in the bucket trip-data-dtc-de-zc.\n",
      "File yellow_tripdata_2020-10.csv already exists in the bucket trip-data-dtc-de-zc.\n",
      "File yellow_tripdata_2020-11.csv already exists in the bucket trip-data-dtc-de-zc.\n",
      "File yellow_tripdata_2020-12.csv already exists in the bucket trip-data-dtc-de-zc.\n",
      "File yellow_tripdata_2021-01.csv already exists in the bucket trip-data-dtc-de-zc.\n",
      "File yellow_tripdata_2021-02.csv already exists in the bucket trip-data-dtc-de-zc.\n",
      "File yellow_tripdata_2021-03.csv already exists in the bucket trip-data-dtc-de-zc.\n",
      "File yellow_tripdata_2021-04.csv already exists in the bucket trip-data-dtc-de-zc.\n",
      "File yellow_tripdata_2021-05.csv already exists in the bucket trip-data-dtc-de-zc.\n",
      "File yellow_tripdata_2021-06.csv already exists in the bucket trip-data-dtc-de-zc.\n",
      "File yellow_tripdata_2021-07.csv already exists in the bucket trip-data-dtc-de-zc.\n",
      "File green_tripdata_2019-01.csv already exists in the bucket trip-data-dtc-de-zc.\n",
      "File green_tripdata_2019-02.csv already exists in the bucket trip-data-dtc-de-zc.\n",
      "File green_tripdata_2019-03.csv already exists in the bucket trip-data-dtc-de-zc.\n",
      "File green_tripdata_2019-04.csv already exists in the bucket trip-data-dtc-de-zc.\n",
      "File green_tripdata_2019-05.csv already exists in the bucket trip-data-dtc-de-zc.\n",
      "File green_tripdata_2019-06.csv already exists in the bucket trip-data-dtc-de-zc.\n",
      "File green_tripdata_2019-07.csv already exists in the bucket trip-data-dtc-de-zc.\n",
      "File green_tripdata_2019-08.csv already exists in the bucket trip-data-dtc-de-zc.\n",
      "File green_tripdata_2019-09.csv already exists in the bucket trip-data-dtc-de-zc.\n",
      "File green_tripdata_2019-10.csv already exists in the bucket trip-data-dtc-de-zc.\n",
      "File green_tripdata_2019-11.csv already exists in the bucket trip-data-dtc-de-zc.\n",
      "File green_tripdata_2019-12.csv already exists in the bucket trip-data-dtc-de-zc.\n",
      "File green_tripdata_2020-01.csv already exists in the bucket trip-data-dtc-de-zc.\n",
      "File green_tripdata_2020-02.csv already exists in the bucket trip-data-dtc-de-zc.\n",
      "File green_tripdata_2020-03.csv already exists in the bucket trip-data-dtc-de-zc.\n",
      "File green_tripdata_2020-04.csv already exists in the bucket trip-data-dtc-de-zc.\n",
      "File green_tripdata_2020-05.csv already exists in the bucket trip-data-dtc-de-zc.\n",
      "File green_tripdata_2020-06.csv already exists in the bucket trip-data-dtc-de-zc.\n",
      "File green_tripdata_2020-07.csv already exists in the bucket trip-data-dtc-de-zc.\n",
      "File green_tripdata_2020-08.csv already exists in the bucket trip-data-dtc-de-zc.\n",
      "File green_tripdata_2020-09.csv already exists in the bucket trip-data-dtc-de-zc.\n",
      "File green_tripdata_2020-10.csv already exists in the bucket trip-data-dtc-de-zc.\n",
      "File green_tripdata_2020-11.csv already exists in the bucket trip-data-dtc-de-zc.\n",
      "File green_tripdata_2020-12.csv already exists in the bucket trip-data-dtc-de-zc.\n",
      "File green_tripdata_2021-01.csv already exists in the bucket trip-data-dtc-de-zc.\n",
      "File green_tripdata_2021-02.csv already exists in the bucket trip-data-dtc-de-zc.\n",
      "File green_tripdata_2021-03.csv already exists in the bucket trip-data-dtc-de-zc.\n",
      "File green_tripdata_2021-04.csv already exists in the bucket trip-data-dtc-de-zc.\n",
      "File green_tripdata_2021-05.csv already exists in the bucket trip-data-dtc-de-zc.\n",
      "File green_tripdata_2021-06.csv already exists in the bucket trip-data-dtc-de-zc.\n",
      "File green_tripdata_2021-07.csv already exists in the bucket trip-data-dtc-de-zc.\n",
      "File fhv_tripdata_2019-02.csv already exists in the bucket trip-data-dtc-de-zc.\n",
      "File fhv_tripdata_2019-03.csv already exists in the bucket trip-data-dtc-de-zc.\n",
      "File fhv_tripdata_2019-04.csv already exists in the bucket trip-data-dtc-de-zc.\n",
      "File fhv_tripdata_2019-05.csv already exists in the bucket trip-data-dtc-de-zc.\n",
      "File fhv_tripdata_2019-06.csv already exists in the bucket trip-data-dtc-de-zc.\n",
      "File fhv_tripdata_2019-07.csv already exists in the bucket trip-data-dtc-de-zc.\n",
      "File fhv_tripdata_2019-08.csv already exists in the bucket trip-data-dtc-de-zc.\n",
      "File fhv_tripdata_2019-09.csv already exists in the bucket trip-data-dtc-de-zc.\n",
      "File fhv_tripdata_2019-10.csv already exists in the bucket trip-data-dtc-de-zc.\n",
      "File fhv_tripdata_2019-11.csv already exists in the bucket trip-data-dtc-de-zc.\n",
      "File fhv_tripdata_2019-12.csv already exists in the bucket trip-data-dtc-de-zc.\n",
      "File fhv_tripdata_2020-01.csv already exists in the bucket trip-data-dtc-de-zc.\n",
      "File fhv_tripdata_2020-02.csv already exists in the bucket trip-data-dtc-de-zc.\n",
      "File fhv_tripdata_2020-03.csv already exists in the bucket trip-data-dtc-de-zc.\n",
      "File fhv_tripdata_2020-04.csv already exists in the bucket trip-data-dtc-de-zc.\n",
      "File fhv_tripdata_2020-05.csv already exists in the bucket trip-data-dtc-de-zc.\n",
      "File fhv_tripdata_2020-06.csv already exists in the bucket trip-data-dtc-de-zc.\n",
      "File fhv_tripdata_2020-07.csv already exists in the bucket trip-data-dtc-de-zc.\n",
      "File fhv_tripdata_2020-08.csv already exists in the bucket trip-data-dtc-de-zc.\n",
      "File fhv_tripdata_2020-09.csv already exists in the bucket trip-data-dtc-de-zc.\n",
      "File fhv_tripdata_2020-10.csv already exists in the bucket trip-data-dtc-de-zc.\n",
      "File fhv_tripdata_2020-11.csv already exists in the bucket trip-data-dtc-de-zc.\n",
      "File fhv_tripdata_2020-12.csv already exists in the bucket trip-data-dtc-de-zc.\n",
      "File fhv_tripdata_2021-01.csv already exists in the bucket trip-data-dtc-de-zc.\n",
      "File fhv_tripdata_2021-02.csv already exists in the bucket trip-data-dtc-de-zc.\n",
      "File fhv_tripdata_2021-03.csv already exists in the bucket trip-data-dtc-de-zc.\n",
      "File fhv_tripdata_2021-04.csv already exists in the bucket trip-data-dtc-de-zc.\n",
      "File fhv_tripdata_2021-05.csv already exists in the bucket trip-data-dtc-de-zc.\n",
      "File fhv_tripdata_2021-06.csv already exists in the bucket trip-data-dtc-de-zc.\n",
      "File fhv_tripdata_2021-07.csv already exists in the bucket trip-data-dtc-de-zc.\n"
     ]
    }
   ],
   "source": [
    "for folder_name in [\"yellow_csvs\", \"green_csvs\", \"fhv_csvs\"]:\n",
    "    for file_name in os.listdir(folder_name):\n",
    "        if file_name.endswith(\".csv\"):\n",
    "            local_file = os.path.join(folder_name, file_name)\n",
    "            s3_file = file_name\n",
    "            #upload it only if it doesn't exist\n",
    "            if s3_file not in [obj[\"Key\"] for obj in s3.list_objects(Bucket=bucket_name)[\"Contents\"]]:\n",
    "                print(f\"Uploading {local_file} to the bucket {bucket_name}...\")\n",
    "                s3.upload_file(local_file, bucket_name, s3_file)\n",
    "                print(f\"... Uploaded {file_name} to the bucket {bucket_name}.\")\n",
    "            else:\n",
    "                print(f\"File {file_name} already exists in the bucket {bucket_name}.\")"
   ]
  }
 ],
 "metadata": {
  "kernelspec": {
   "display_name": "data-eng-zc-gcp-aws-Y2KD2JE8",
   "language": "python",
   "name": "python3"
  },
  "language_info": {
   "codemirror_mode": {
    "name": "ipython",
    "version": 3
   },
   "file_extension": ".py",
   "mimetype": "text/x-python",
   "name": "python",
   "nbconvert_exporter": "python",
   "pygments_lexer": "ipython3",
   "version": "3.10.0"
  },
  "orig_nbformat": 4,
  "vscode": {
   "interpreter": {
    "hash": "35dc32dd66dc6a9570e9158145834b007d61225e6c3cc4f50904136dd8e8a457"
   }
  }
 },
 "nbformat": 4,
 "nbformat_minor": 2
}
