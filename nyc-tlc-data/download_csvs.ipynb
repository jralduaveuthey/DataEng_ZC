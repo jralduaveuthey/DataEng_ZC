{
 "cells": [
  {
   "cell_type": "code",
   "execution_count": 23,
   "metadata": {},
   "outputs": [],
   "source": [
    "import requests\n",
    "import os\n",
    "import re"
   ]
  },
  {
   "attachments": {},
   "cell_type": "markdown",
   "metadata": {},
   "source": [
    "# download all the green files from github repo\n"
   ]
  },
  {
   "cell_type": "code",
   "execution_count": 24,
   "metadata": {},
   "outputs": [
    {
     "name": "stdout",
     "output_type": "stream",
     "text": [
      "['green_tripdata_2020-05.csv.gz', 'green_tripdata_2020-06.csv.gz', 'green_tripdata_2020-07.csv.gz', 'green_tripdata_2020-12.csv.gz', 'green_tripdata_2019-04.csv.gz', 'green_tripdata_2021-06.csv.gz', 'green_tripdata_2019-03.csv.gz', 'green_tripdata_2019-08.csv.gz', 'green_tripdata_2019-12.csv.gz', 'green_tripdata_2019-06.csv.gz', 'green_tripdata_2019-02.csv.gz', 'green_tripdata_2020-03.csv.gz', 'green_tripdata_2019-07.csv.gz', 'green_tripdata_2021-03.csv.gz', 'green_tripdata_2021-07.csv.gz', 'green_tripdata_2020-10.csv.gz', 'green_tripdata_2021-04.csv.gz', 'green_tripdata_2021-05.csv.gz', 'green_tripdata_2020-08.csv.gz', 'green_tripdata_2019-01.csv.gz', 'green_tripdata_2019-09.csv.gz', 'green_tripdata_2020-04.csv.gz', 'green_tripdata_2021-01.csv.gz', 'green_tripdata_2020-09.csv.gz', 'green_tripdata_2020-11.csv.gz', 'green_tripdata_2019-10.csv.gz', 'green_tripdata_2019-05.csv.gz', 'green_tripdata_2019-11.csv.gz', 'green_tripdata_2021-02.csv.gz', 'green_tripdata_2020-01.csv.gz', 'green_tripdata_2020-02.csv.gz']\n"
     ]
    }
   ],
   "source": [
    "url = \"https://github.com/DataTalksClub/nyc-tlc-data/releases/expanded_assets/green\"\n",
    "response = requests.get(url)\n",
    "pattern = re.compile(r\"green_tripdata_.*\\.gz\")\n",
    "green_file_list = pattern.findall(response.text)\n",
    "#delete duplicates\n",
    "green_file_list = list(set(green_file_list))\n",
    "print(green_file_list)\n"
   ]
  },
  {
   "cell_type": "code",
   "execution_count": 25,
   "metadata": {},
   "outputs": [],
   "source": [
    "\n",
    "if not os.path.exists(\"green_csvs\"):\n",
    "    os.makedirs(\"green_csvs\")\n",
    "    "
   ]
  },
  {
   "cell_type": "code",
   "execution_count": 26,
   "metadata": {},
   "outputs": [
    {
     "name": "stdout",
     "output_type": "stream",
     "text": [
      "File green_tripdata_2020-05.csv.gz already exists\n",
      "File green_tripdata_2020-06.csv.gz already exists\n",
      "File green_tripdata_2020-07.csv.gz already exists\n",
      "File green_tripdata_2020-12.csv.gz already exists\n",
      "File green_tripdata_2019-04.csv.gz already exists\n",
      "File green_tripdata_2021-06.csv.gz already exists\n",
      "File green_tripdata_2019-03.csv.gz already exists\n",
      "File green_tripdata_2019-08.csv.gz already exists\n",
      "File green_tripdata_2019-12.csv.gz already exists\n",
      "File green_tripdata_2019-06.csv.gz already exists\n",
      "File green_tripdata_2019-02.csv.gz already exists\n",
      "File green_tripdata_2020-03.csv.gz already exists\n",
      "File green_tripdata_2019-07.csv.gz already exists\n",
      "File green_tripdata_2021-03.csv.gz already exists\n",
      "File green_tripdata_2021-07.csv.gz already exists\n",
      "File green_tripdata_2020-10.csv.gz already exists\n",
      "File green_tripdata_2021-04.csv.gz already exists\n",
      "File green_tripdata_2021-05.csv.gz already exists\n",
      "File green_tripdata_2020-08.csv.gz already exists\n",
      "File green_tripdata_2019-01.csv.gz already exists\n",
      "File green_tripdata_2019-09.csv.gz already exists\n",
      "File green_tripdata_2020-04.csv.gz already exists\n",
      "File green_tripdata_2021-01.csv.gz already exists\n",
      "File green_tripdata_2020-09.csv.gz already exists\n",
      "File green_tripdata_2020-11.csv.gz already exists\n",
      "File green_tripdata_2019-10.csv.gz already exists\n",
      "File green_tripdata_2019-05.csv.gz already exists\n",
      "File green_tripdata_2019-11.csv.gz already exists\n",
      "File green_tripdata_2021-02.csv.gz already exists\n",
      "File green_tripdata_2020-01.csv.gz already exists\n",
      "File green_tripdata_2020-02.csv.gz already exists\n"
     ]
    }
   ],
   "source": [
    "# url to download a file https://github.com/DataTalksClub/nyc-tlc-data/releases/download/green/...\n",
    "url_dwnld ='https://github.com/DataTalksClub/nyc-tlc-data/releases/download/green/'\n",
    "for file_name in green_file_list:\n",
    "    response = requests.get(url_dwnld + file_name)\n",
    "    # if the file already exists, it will be skipped\n",
    "    if not os.path.exists(f\"green_csvs/{file_name}\"):\n",
    "        open(f\"green_csvs/{file_name}\", \"wb\").write(response.content)\n",
    "        print(f\"Downloaded {file_name}\")\n",
    "    else:\n",
    "        print(f\"File {file_name} already exists\")\n"
   ]
  },
  {
   "cell_type": "code",
   "execution_count": 27,
   "metadata": {},
   "outputs": [],
   "source": [
    "# extract the csv files from the gz files\n",
    "import gzip\n",
    "import shutil\n",
    "for file_name in green_file_list:\n",
    "    with gzip.open(f\"green_csvs/{file_name}\", \"rb\") as f_in:\n",
    "        with open(f\"green_csvs/{file_name[:-3]}\", \"wb\") as f_out:\n",
    "            shutil.copyfileobj(f_in, f_out)"
   ]
  },
  {
   "attachments": {},
   "cell_type": "markdown",
   "metadata": {},
   "source": [
    "# download all the yellow files from github repo\n"
   ]
  },
  {
   "cell_type": "code",
   "execution_count": 28,
   "metadata": {},
   "outputs": [
    {
     "name": "stdout",
     "output_type": "stream",
     "text": [
      "['yellow_tripdata_2020-05.csv.gz', 'yellow_tripdata_2020-01.csv.gz', 'yellow_tripdata_2019-05.csv.gz', 'yellow_tripdata_2019-01.csv.gz', 'yellow_tripdata_2019-11.csv.gz', 'yellow_tripdata_2020-06.csv.gz', 'yellow_tripdata_2019-09.csv.gz', 'yellow_tripdata_2021-01.csv.gz', 'yellow_tripdata_2020-04.csv.gz', 'yellow_tripdata_2020-02.csv.gz', 'yellow_tripdata_2021-02.csv.gz', 'yellow_tripdata_2019-02.csv.gz', 'yellow_tripdata_2021-05.csv.gz', 'yellow_tripdata_2019-10.csv.gz', 'yellow_tripdata_2019-03.csv.gz', 'yellow_tripdata_2020-12.csv.gz', 'yellow_tripdata_2020-09.csv.gz', 'yellow_tripdata_2021-04.csv.gz', 'yellow_tripdata_2020-10.csv.gz', 'yellow_tripdata_2019-08.csv.gz', 'yellow_tripdata_2021-06.csv.gz', 'yellow_tripdata_2019-12.csv.gz', 'yellow_tripdata_2019-07.csv.gz', 'yellow_tripdata_2020-07.csv.gz', 'yellow_tripdata_2019-04.csv.gz', 'yellow_tripdata_2020-08.csv.gz', 'yellow_tripdata_2021-07.csv.gz', 'yellow_tripdata_2021-03.csv.gz', 'yellow_tripdata_2020-03.csv.gz', 'yellow_tripdata_2020-11.csv.gz', 'yellow_tripdata_2019-06.csv.gz']\n"
     ]
    }
   ],
   "source": [
    "url = \"https://github.com/DataTalksClub/nyc-tlc-data/releases/expanded_assets/yellow\"\n",
    "response = requests.get(url)\n",
    "pattern = re.compile(r\"yellow_tripdata_.*\\.gz\")\n",
    "yellow_file_list = pattern.findall(response.text)\n",
    "#delete duplicates\n",
    "yellow_file_list = list(set(yellow_file_list))\n",
    "print(yellow_file_list)\n",
    "\n"
   ]
  },
  {
   "cell_type": "code",
   "execution_count": 29,
   "metadata": {},
   "outputs": [],
   "source": [
    "if not os.path.exists(\"yellow_csvs\"):\n",
    "    os.makedirs(\"yellow_csvs\")"
   ]
  },
  {
   "cell_type": "code",
   "execution_count": 30,
   "metadata": {},
   "outputs": [
    {
     "name": "stdout",
     "output_type": "stream",
     "text": [
      "Downloaded yellow_tripdata_2020-05.csv.gz\n",
      "Downloaded yellow_tripdata_2020-01.csv.gz\n",
      "Downloaded yellow_tripdata_2019-05.csv.gz\n",
      "File yellow_tripdata_2019-01.csv.gz already exists\n",
      "Downloaded yellow_tripdata_2019-11.csv.gz\n",
      "Downloaded yellow_tripdata_2020-06.csv.gz\n",
      "Downloaded yellow_tripdata_2019-09.csv.gz\n",
      "Downloaded yellow_tripdata_2021-01.csv.gz\n",
      "Downloaded yellow_tripdata_2020-04.csv.gz\n",
      "Downloaded yellow_tripdata_2020-02.csv.gz\n",
      "Downloaded yellow_tripdata_2021-02.csv.gz\n",
      "File yellow_tripdata_2019-02.csv.gz already exists\n",
      "Downloaded yellow_tripdata_2021-05.csv.gz\n",
      "Downloaded yellow_tripdata_2019-10.csv.gz\n",
      "File yellow_tripdata_2019-03.csv.gz already exists\n",
      "Downloaded yellow_tripdata_2020-12.csv.gz\n",
      "Downloaded yellow_tripdata_2020-09.csv.gz\n",
      "Downloaded yellow_tripdata_2021-04.csv.gz\n",
      "Downloaded yellow_tripdata_2020-10.csv.gz\n",
      "Downloaded yellow_tripdata_2019-08.csv.gz\n",
      "Downloaded yellow_tripdata_2021-06.csv.gz\n",
      "Downloaded yellow_tripdata_2019-12.csv.gz\n",
      "Downloaded yellow_tripdata_2019-07.csv.gz\n",
      "Downloaded yellow_tripdata_2020-07.csv.gz\n",
      "File yellow_tripdata_2019-04.csv.gz already exists\n",
      "Downloaded yellow_tripdata_2020-08.csv.gz\n",
      "Downloaded yellow_tripdata_2021-07.csv.gz\n",
      "Downloaded yellow_tripdata_2021-03.csv.gz\n",
      "Downloaded yellow_tripdata_2020-03.csv.gz\n",
      "Downloaded yellow_tripdata_2020-11.csv.gz\n",
      "Downloaded yellow_tripdata_2019-06.csv.gz\n"
     ]
    }
   ],
   "source": [
    "# url to download a file https://github.com/DataTalksClub/nyc-tlc-data/releases/download/yellow/...\n",
    "url_dwnld ='https://github.com/DataTalksClub/nyc-tlc-data/releases/download/yellow/'\n",
    "for file_name in yellow_file_list:\n",
    "    response = requests.get(url_dwnld + file_name)\n",
    "    if not os.path.exists(f\"yellow_csvs/{file_name}\"):\n",
    "        open(f\"yellow_csvs/{file_name}\", \"wb\").write(response.content)\n",
    "        print(f\"Downloaded {file_name}\")\n",
    "    else:\n",
    "        print(f\"File {file_name} already exists\")\n",
    "        "
   ]
  },
  {
   "cell_type": "code",
   "execution_count": 31,
   "metadata": {},
   "outputs": [],
   "source": [
    "# extract the csv files from the gz files\n",
    "import gzip\n",
    "import shutil\n",
    "for file_name in yellow_file_list:\n",
    "    with gzip.open(f\"yellow_csvs/{file_name}\", \"rb\") as f_in:\n",
    "        with open(f\"yellow_csvs/{file_name[:-3]}\", \"wb\") as f_out:\n",
    "            shutil.copyfileobj(f_in, f_out)"
   ]
  },
  {
   "attachments": {},
   "cell_type": "markdown",
   "metadata": {},
   "source": [
    "# download all the fhv files from github repo\n"
   ]
  },
  {
   "cell_type": "code",
   "execution_count": 32,
   "metadata": {},
   "outputs": [
    {
     "name": "stdout",
     "output_type": "stream",
     "text": [
      "['fhv_tripdata_2021-05.csv.gz', 'fhv_tripdata_2019-03.csv.gz', 'fhv_tripdata_2020-04.csv.gz', 'fhv_tripdata_2021-06.csv.gz', 'fhv_tripdata_2019-04.csv.gz', 'fhv_tripdata_2020-02.csv.gz', 'fhv_tripdata_2019-11.csv.gz', 'fhv_tripdata_2020-10.csv.gz', 'fhv_tripdata_2019-10.csv.gz', 'fhv_tripdata_2020-12.csv.gz', 'fhv_tripdata_2021-01.csv.gz', 'fhv_tripdata_2021-03.csv.gz', 'fhv_tripdata_2019-07.csv.gz', 'fhv_tripdata_2021-02.csv.gz', 'fhv_tripdata_2020-07.csv.gz', 'fhv_tripdata_2021-04.csv.gz', 'fhv_tripdata_2020-01.csv.gz', 'fhv_tripdata_2019-06.csv.gz', 'fhv_tripdata_2019-09.csv.gz', 'fhv_tripdata_2020-05.csv.gz', 'fhv_tripdata_2019-12.csv.gz', 'fhv_tripdata_2020-08.csv.gz', 'fhv_tripdata_2020-06.csv.gz', 'fhv_tripdata_2019-01.csv.gz', 'fhv_tripdata_2020-11.csv.gz', 'fhv_tripdata_2021-07.csv.gz', 'fhv_tripdata_2019-02.csv.gz', 'fhv_tripdata_2019-08.csv.gz', 'fhv_tripdata_2020-09.csv.gz', 'fhv_tripdata_2019-05.csv.gz', 'fhv_tripdata_2020-03.csv.gz']\n"
     ]
    }
   ],
   "source": [
    "url = \"https://github.com/DataTalksClub/nyc-tlc-data/releases/expanded_assets/fhv\"\n",
    "response = requests.get(url)\n",
    "pattern = re.compile(r\"fhv_tripdata_.*\\.gz\")\n",
    "fhv_file_list = pattern.findall(response.text)\n",
    "#delete duplicates\n",
    "fhv_file_list = list(set(fhv_file_list))\n",
    "print(fhv_file_list)"
   ]
  },
  {
   "cell_type": "code",
   "execution_count": 33,
   "metadata": {},
   "outputs": [],
   "source": [
    "if not os.path.exists(\"fhv_csvs\"):\n",
    "    os.makedirs(\"fhv_csvs\")"
   ]
  },
  {
   "cell_type": "code",
   "execution_count": 34,
   "metadata": {},
   "outputs": [
    {
     "name": "stdout",
     "output_type": "stream",
     "text": [
      "Downloaded fhv_tripdata_2021-05.csv.gz\n",
      "Downloaded fhv_tripdata_2019-03.csv.gz\n",
      "Downloaded fhv_tripdata_2020-04.csv.gz\n",
      "Downloaded fhv_tripdata_2021-06.csv.gz\n",
      "Downloaded fhv_tripdata_2019-04.csv.gz\n",
      "Downloaded fhv_tripdata_2020-02.csv.gz\n",
      "Downloaded fhv_tripdata_2019-11.csv.gz\n",
      "Downloaded fhv_tripdata_2020-10.csv.gz\n",
      "Downloaded fhv_tripdata_2019-10.csv.gz\n",
      "Downloaded fhv_tripdata_2020-12.csv.gz\n",
      "Downloaded fhv_tripdata_2021-01.csv.gz\n",
      "Downloaded fhv_tripdata_2021-03.csv.gz\n",
      "Downloaded fhv_tripdata_2019-07.csv.gz\n",
      "Downloaded fhv_tripdata_2021-02.csv.gz\n",
      "Downloaded fhv_tripdata_2020-07.csv.gz\n",
      "Downloaded fhv_tripdata_2021-04.csv.gz\n",
      "Downloaded fhv_tripdata_2020-01.csv.gz\n",
      "Downloaded fhv_tripdata_2019-06.csv.gz\n",
      "Downloaded fhv_tripdata_2019-09.csv.gz\n",
      "Downloaded fhv_tripdata_2020-05.csv.gz\n",
      "Downloaded fhv_tripdata_2019-12.csv.gz\n",
      "Downloaded fhv_tripdata_2020-08.csv.gz\n",
      "Downloaded fhv_tripdata_2020-06.csv.gz\n",
      "Downloaded fhv_tripdata_2019-01.csv.gz\n",
      "Downloaded fhv_tripdata_2020-11.csv.gz\n",
      "Downloaded fhv_tripdata_2021-07.csv.gz\n",
      "Downloaded fhv_tripdata_2019-02.csv.gz\n",
      "Downloaded fhv_tripdata_2019-08.csv.gz\n",
      "Downloaded fhv_tripdata_2020-09.csv.gz\n",
      "Downloaded fhv_tripdata_2019-05.csv.gz\n",
      "Downloaded fhv_tripdata_2020-03.csv.gz\n"
     ]
    }
   ],
   "source": [
    "# url to download a file https://github.com/DataTalksClub/nyc-tlc-data/releases/download/fhv/...\n",
    "url_dwnld ='https://github.com/DataTalksClub/nyc-tlc-data/releases/download/fhv/'\n",
    "for file_name in fhv_file_list:\n",
    "    response = requests.get(url_dwnld + file_name)\n",
    "    if not os.path.exists(f\"fhv_csvs/{file_name}\"):\n",
    "        open(f\"fhv_csvs/{file_name}\", \"wb\").write(response.content)\n",
    "        print(f\"Downloaded {file_name}\")\n",
    "    else:\n",
    "        print(f\"File {file_name} already exists\")"
   ]
  },
  {
   "cell_type": "code",
   "execution_count": 35,
   "metadata": {},
   "outputs": [],
   "source": [
    "# extract the csv files from the gz files\n",
    "import gzip\n",
    "import shutil\n",
    "for file_name in fhv_file_list:\n",
    "    with gzip.open(f\"fhv_csvs/{file_name}\", \"rb\") as f_in:\n",
    "        with open(f\"fhv_csvs/{file_name[:-3]}\", \"wb\") as f_out:\n",
    "            shutil.copyfileobj(f_in, f_out)"
   ]
  }
 ],
 "metadata": {
  "kernelspec": {
   "display_name": "data-eng-zc-gcp-aws-Y2KD2JE8",
   "language": "python",
   "name": "python3"
  },
  "language_info": {
   "codemirror_mode": {
    "name": "ipython",
    "version": 3
   },
   "file_extension": ".py",
   "mimetype": "text/x-python",
   "name": "python",
   "nbconvert_exporter": "python",
   "pygments_lexer": "ipython3",
   "version": "3.10.0"
  },
  "orig_nbformat": 4,
  "vscode": {
   "interpreter": {
    "hash": "35dc32dd66dc6a9570e9158145834b007d61225e6c3cc4f50904136dd8e8a457"
   }
  }
 },
 "nbformat": 4,
 "nbformat_minor": 2
}
