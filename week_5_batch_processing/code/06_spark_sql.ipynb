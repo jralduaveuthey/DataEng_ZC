{
 "cells": [
  {
   "attachments": {},
   "cell_type": "markdown",
   "id": "bc1326cb",
   "metadata": {},
   "source": [
    "# Corresponding video: DE Zoomcamp 5.3.4 - SQL with Spark\n",
    "\n"
   ]
  },
  {
   "cell_type": "code",
   "execution_count": 1,
   "id": "087d8ec8",
   "metadata": {},
   "outputs": [],
   "source": [
    "import pyspark\n",
    "from pyspark.sql import SparkSession\n",
    "\n",
    "spark = SparkSession.builder \\\n",
    "    .master(\"local[*]\") \\\n",
    "    .appName('test') \\\n",
    "    .getOrCreate()"
   ]
  },
  {
   "cell_type": "code",
   "execution_count": 2,
   "id": "1ee1eb1d",
   "metadata": {},
   "outputs": [],
   "source": [
    "df_green = spark.read.parquet('data/pq/green/*/*')"
   ]
  },
  {
   "cell_type": "code",
   "execution_count": 3,
   "id": "649bb4da",
   "metadata": {},
   "outputs": [],
   "source": [
    "df_green = df_green \\\n",
    "    .withColumnRenamed('lpep_pickup_datetime', 'pickup_datetime') \\\n",
    "    .withColumnRenamed('lpep_dropoff_datetime', 'dropoff_datetime')"
   ]
  },
  {
   "cell_type": "code",
   "execution_count": 4,
   "id": "90cd6845",
   "metadata": {},
   "outputs": [],
   "source": [
    "df_yellow = spark.read.parquet('data/pq/yellow/*/*')"
   ]
  },
  {
   "cell_type": "code",
   "execution_count": 5,
   "id": "88822efd",
   "metadata": {},
   "outputs": [],
   "source": [
    "df_yellow = df_yellow \\\n",
    "    .withColumnRenamed('tpep_pickup_datetime', 'pickup_datetime') \\\n",
    "    .withColumnRenamed('tpep_dropoff_datetime', 'dropoff_datetime')"
   ]
  },
  {
   "cell_type": "code",
   "execution_count": 6,
   "id": "55e2ae63",
   "metadata": {},
   "outputs": [
    {
     "data": {
      "text/plain": [
       "{'DOLocationID',\n",
       " 'PULocationID',\n",
       " 'RatecodeID',\n",
       " 'VendorID',\n",
       " 'congestion_surcharge',\n",
       " 'dropoff_datetime',\n",
       " 'extra',\n",
       " 'fare_amount',\n",
       " 'improvement_surcharge',\n",
       " 'mta_tax',\n",
       " 'passenger_count',\n",
       " 'payment_type',\n",
       " 'pickup_datetime',\n",
       " 'store_and_fwd_flag',\n",
       " 'tip_amount',\n",
       " 'tolls_amount',\n",
       " 'total_amount',\n",
       " 'trip_distance'}"
      ]
     },
     "execution_count": 6,
     "metadata": {},
     "output_type": "execute_result"
    }
   ],
   "source": [
    "set(df_green.columns) & set(df_yellow.columns)"
   ]
  },
  {
   "cell_type": "code",
   "execution_count": 7,
   "id": "610167a2",
   "metadata": {},
   "outputs": [],
   "source": [
    "#When we do set(df_green.columns) & set(df_yellow.columns)...it does not keeep the order of the columns so we use a for loop to keep the same order\n",
    "common_colums = []\n",
    "\n",
    "yellow_columns = set(df_yellow.columns)\n",
    "\n",
    "for col in df_green.columns:\n",
    "    if col in yellow_columns:\n",
    "        common_colums.append(col)"
   ]
  },
  {
   "cell_type": "code",
   "execution_count": 8,
   "id": "0e128756",
   "metadata": {},
   "outputs": [
    {
     "data": {
      "text/plain": [
       "['VendorID',\n",
       " 'pickup_datetime',\n",
       " 'dropoff_datetime',\n",
       " 'store_and_fwd_flag',\n",
       " 'RatecodeID',\n",
       " 'PULocationID',\n",
       " 'DOLocationID',\n",
       " 'passenger_count',\n",
       " 'trip_distance',\n",
       " 'fare_amount',\n",
       " 'extra',\n",
       " 'mta_tax',\n",
       " 'tip_amount',\n",
       " 'tolls_amount',\n",
       " 'improvement_surcharge',\n",
       " 'total_amount',\n",
       " 'payment_type',\n",
       " 'congestion_surcharge']"
      ]
     },
     "execution_count": 8,
     "metadata": {},
     "output_type": "execute_result"
    }
   ],
   "source": [
    "common_colums"
   ]
  },
  {
   "cell_type": "code",
   "execution_count": 9,
   "id": "839d773f",
   "metadata": {},
   "outputs": [],
   "source": [
    "from pyspark.sql import functions as F"
   ]
  },
  {
   "cell_type": "code",
   "execution_count": 10,
   "id": "2498810a",
   "metadata": {},
   "outputs": [],
   "source": [
    "df_green_sel = df_green \\\n",
    "    .select(common_colums) \\\n",
    "    .withColumn('service_type', F.lit('green'))"
   ]
  },
  {
   "cell_type": "code",
   "execution_count": 11,
   "id": "19032efc",
   "metadata": {},
   "outputs": [],
   "source": [
    "df_yellow_sel = df_yellow \\\n",
    "    .select(common_colums) \\\n",
    "    .withColumn('service_type', F.lit('yellow'))"
   ]
  },
  {
   "cell_type": "code",
   "execution_count": 12,
   "id": "f5b0f3d1",
   "metadata": {},
   "outputs": [],
   "source": [
    "df_trips_data = df_green_sel.unionAll(df_yellow_sel)"
   ]
  },
  {
   "cell_type": "code",
   "execution_count": 13,
   "id": "1bed8b33",
   "metadata": {},
   "outputs": [
    {
     "name": "stdout",
     "output_type": "stream",
     "text": [
      "+------------+--------+\n",
      "|service_type|   count|\n",
      "+------------+--------+\n",
      "|       green| 2304517|\n",
      "|      yellow|39649199|\n",
      "+------------+--------+\n",
      "\n"
     ]
    }
   ],
   "source": [
    "df_trips_data.groupBy('service_type').count().show()"
   ]
  },
  {
   "cell_type": "code",
   "execution_count": 14,
   "id": "28cc8fa3",
   "metadata": {},
   "outputs": [
    {
     "data": {
      "text/plain": [
       "['VendorID',\n",
       " 'pickup_datetime',\n",
       " 'dropoff_datetime',\n",
       " 'store_and_fwd_flag',\n",
       " 'RatecodeID',\n",
       " 'PULocationID',\n",
       " 'DOLocationID',\n",
       " 'passenger_count',\n",
       " 'trip_distance',\n",
       " 'fare_amount',\n",
       " 'extra',\n",
       " 'mta_tax',\n",
       " 'tip_amount',\n",
       " 'tolls_amount',\n",
       " 'improvement_surcharge',\n",
       " 'total_amount',\n",
       " 'payment_type',\n",
       " 'congestion_surcharge',\n",
       " 'service_type']"
      ]
     },
     "execution_count": 14,
     "metadata": {},
     "output_type": "execute_result"
    }
   ],
   "source": [
    "df_trips_data.columns"
   ]
  },
  {
   "cell_type": "code",
   "execution_count": 15,
   "id": "36e90cbc",
   "metadata": {},
   "outputs": [
    {
     "name": "stderr",
     "output_type": "stream",
     "text": [
      "c:\\Users\\jraldua-veuthey\\.virtualenvs\\data-eng-zc-gcp-aws-Y2KD2JE8\\lib\\site-packages\\pyspark\\sql\\dataframe.py:229: FutureWarning: Deprecated in 2.0, use createOrReplaceTempView instead.\n",
      "  warnings.warn(\"Deprecated in 2.0, use createOrReplaceTempView instead.\", FutureWarning)\n"
     ]
    }
   ],
   "source": [
    "df_trips_data.registerTempTable('trips_data') #We need to register this as table so we can use it below in the SQL query after FROM"
   ]
  },
  {
   "cell_type": "code",
   "execution_count": 16,
   "id": "d0e01bf1",
   "metadata": {},
   "outputs": [
    {
     "name": "stdout",
     "output_type": "stream",
     "text": [
      "+------------+--------+\n",
      "|service_type|count(1)|\n",
      "+------------+--------+\n",
      "|       green| 2304517|\n",
      "|      yellow|39649199|\n",
      "+------------+--------+\n",
      "\n"
     ]
    }
   ],
   "source": [
    "spark.sql(\"\"\"\n",
    "SELECT\n",
    "    service_type,\n",
    "    count(1)\n",
    "FROM\n",
    "    trips_data\n",
    "GROUP BY \n",
    "    service_type\n",
    "\"\"\").show()"
   ]
  },
  {
   "cell_type": "code",
   "execution_count": 17,
   "id": "b2ee7038",
   "metadata": {},
   "outputs": [],
   "source": [
    "#Original query comes from week_4_analytics_engineering\\taxi_rides_ny\\models\\core\\dm_monthly_zone_revenue.sql\n",
    "df_result = spark.sql(\"\"\"\n",
    "SELECT \n",
    "    -- Reveneue grouping \n",
    "    PULocationID AS revenue_zone,\n",
    "    date_trunc('month', pickup_datetime) AS revenue_month, \n",
    "    service_type, \n",
    "\n",
    "    -- Revenue calculation \n",
    "    SUM(fare_amount) AS revenue_monthly_fare,\n",
    "    SUM(extra) AS revenue_monthly_extra,\n",
    "    SUM(mta_tax) AS revenue_monthly_mta_tax,\n",
    "    SUM(tip_amount) AS revenue_monthly_tip_amount,\n",
    "    SUM(tolls_amount) AS revenue_monthly_tolls_amount,\n",
    "    SUM(improvement_surcharge) AS revenue_monthly_improvement_surcharge,\n",
    "    SUM(total_amount) AS revenue_monthly_total_amount,\n",
    "    SUM(congestion_surcharge) AS revenue_monthly_congestion_surcharge,\n",
    "\n",
    "    -- Additional calculations\n",
    "    AVG(passenger_count) AS avg_montly_passenger_count,\n",
    "    AVG(trip_distance) AS avg_montly_trip_distance\n",
    "FROM\n",
    "    trips_data\n",
    "GROUP BY\n",
    "    1, 2, 3\n",
    "\"\"\")"
   ]
  },
  {
   "cell_type": "code",
   "execution_count": 18,
   "id": "1e73ac9e",
   "metadata": {},
   "outputs": [
    {
     "name": "stdout",
     "output_type": "stream",
     "text": [
      "+------------+-------------------+------------+--------------------+---------------------+-----------------------+--------------------------+----------------------------+-------------------------------------+----------------------------+------------------------------------+--------------------------+------------------------+\n",
      "|revenue_zone|      revenue_month|service_type|revenue_monthly_fare|revenue_monthly_extra|revenue_monthly_mta_tax|revenue_monthly_tip_amount|revenue_monthly_tolls_amount|revenue_monthly_improvement_surcharge|revenue_monthly_total_amount|revenue_monthly_congestion_surcharge|avg_montly_passenger_count|avg_montly_trip_distance|\n",
      "+------------+-------------------+------------+--------------------+---------------------+-----------------------+--------------------------+----------------------------+-------------------------------------+----------------------------+------------------------------------+--------------------------+------------------------+\n",
      "|         127|2020-02-01 00:00:00|       green|  21571.680000000015|               890.75|                  495.0|                   1050.52|          488.80000000000035|                   345.00000000000733|           25119.14999999965|                               264.0|        1.1945837512537614|      4.5838944723618065|\n",
      "|          47|2020-01-01 00:00:00|       green|  16630.150000000034|               1192.0|                  160.0|        42.230000000000004|           523.0000000000003|                   210.90000000000228|           18770.42999999991|                                11.0|         1.177685950413223|      4.6450000000000005|\n",
      "|          53|2020-01-01 00:00:00|       green|   6281.649999999992|               330.25|                   49.0|         39.21999999999999|          102.50000000000001|                    68.39999999999971|           6873.770000000006|                                2.75|        1.2417582417582418|       6.929710743801653|\n",
      "|         128|2020-01-01 00:00:00|       green|  3261.3300000000004|                158.0|                   35.5|                     82.25|          104.04000000000002|                    34.50000000000003|           3714.020000000003|                                27.5|        1.0169491525423728|      7.0232800000000015|\n",
      "|         150|2020-01-01 00:00:00|       green|   9996.160000000005|                627.5|                   98.0|         97.86999999999999|          149.14000000000004|                   109.49999999999932|          11082.069999999976|                                 0.0|        1.1147540983606556|       5.393588516746412|\n",
      "|         263|2020-01-01 00:00:00|       green|   8987.339999999997|                561.0|                 124.55|        315.27000000000004|           335.0600000000002|                   127.19999999999915|           10684.16999999999|                              239.25|        1.4293478260869565|       5.264249422632796|\n",
      "|          19|2020-01-01 00:00:00|       green|   7798.880000000002|                377.0|                   42.0|                      6.66|          174.40000000000006|                    67.49999999999972|           8466.440000000008|                                 0.0|                  1.046875|      7.8507818930041156|\n",
      "|         186|2020-01-01 00:00:00|       green|  1539.2300000000002|                85.25|                    6.0|                       0.0|           97.92000000000002|                   13.800000000000011|                      1742.2|                                 0.0|        1.6666666666666667|       9.389565217391304|\n",
      "|         238|2020-01-01 00:00:00|       green|   5397.990000000001|                403.5|                   20.0|                       0.0|          124.68000000000002|                   61.199999999999775|           6007.370000000002|                                 0.0|                       1.2|       6.460536585365854|\n",
      "|         126|2020-01-01 00:00:00|       green|  11827.840000000017|               766.75|                  110.5|        101.86999999999999|           458.2800000000002|                    145.1999999999998|          13425.339999999993|                                11.0|                     1.275|       5.187806691449814|\n",
      "|          96|2020-01-01 00:00:00|       green|               628.8|                 27.5|                    4.0|                       0.0|           55.07999999999999|                    5.699999999999998|           721.0799999999998|                                 0.0|        1.1428571428571428|      7.0195454545454545|\n",
      "|         116|2020-01-01 00:00:00|       green|   78706.70999999982|              3319.25|                 2632.5|         5847.950000000007|          1467.9299999999928|                   1756.4999999998251|           96138.29000000651|                              2793.0|         1.212485896953742|       3.068908940397347|\n",
      "|          90|2020-01-01 00:00:00|       green|             2921.62|                165.0|                   19.0|                       0.0|          190.56000000000006|                    25.80000000000004|          3321.9800000000005|                                 0.0|                       1.2|       8.451627906976745|\n",
      "|         255|2020-02-01 00:00:00|       green|  52849.039999999986|               2633.5|                 1954.0|          8370.83000000001|           387.3600000000002|                   1196.6999999999102|           69668.23000000235|                             2672.75|        1.4060529634300125|       3.155214906832296|\n",
      "|         101|2020-01-01 00:00:00|       green|   8472.769999999993|                460.5|                   38.0|        15.219999999999999|          232.56000000000012|                    70.49999999999969|           9289.550000000007|                                2.75|        1.0512820512820513|       9.081153846153855|\n",
      "|         227|2020-01-01 00:00:00|       green|  14857.100000000031|               776.75|                   94.5|        21.569999999999997|           271.5700000000001|                   137.09999999999948|           16173.28999999997|                                 0.0|        1.0743801652892562|       7.235522088353421|\n",
      "|         180|2020-01-01 00:00:00|       green|  4024.4599999999973|               210.75|                   26.0|                     20.24|           84.89000000000001|                   43.199999999999946|           4414.240000000002|                                2.75|        1.3396226415094339|       5.324473684210525|\n",
      "|         190|2020-01-01 00:00:00|       green|             3786.02|                175.0|                   76.5|        242.16000000000005|                       24.48|                    62.69999999999976|           4419.360000000005|                               35.75|        1.4244604316546763|       3.550691244239633|\n",
      "|         264|2008-12-01 00:00:00|       green|                 0.0|                  0.0|                    0.0|                       0.0|                         0.0|                                  0.0|                         0.0|                                 0.0|                       1.0|                     0.0|\n",
      "|         119|2020-01-01 00:00:00|       green|  21224.650000000005|               1391.0|                  186.5|         74.61999999999999|           730.0800000000005|                    245.7000000000036|          23870.199999999855|                               13.75|        1.1612903225806452|      5.5851086956521705|\n",
      "+------------+-------------------+------------+--------------------+---------------------+-----------------------+--------------------------+----------------------------+-------------------------------------+----------------------------+------------------------------------+--------------------------+------------------------+\n",
      "only showing top 20 rows\n",
      "\n"
     ]
    }
   ],
   "source": [
    "df_result.show()"
   ]
  },
  {
   "cell_type": "code",
   "execution_count": 19,
   "id": "3636d5b2",
   "metadata": {},
   "outputs": [],
   "source": [
    "df_result.write.parquet('data/report/revenue/')\n",
    "#when running this in http://localhost:4040/jobs it is skipping most of the jobs => the skipping is okay, see https://stackoverflow.com/questions/34580662/what-does-stage-skipped-mean-in-apache-spark-web-ui\n",
    "\n",
    "\n",
    "# and it is not writing as many parquet files as in the video 5.3.4 but it does not seem very important since with df_result.repartition(20) as done below I can get more partitions"
   ]
  },
  {
   "cell_type": "code",
   "execution_count": 23,
   "id": "8a194f56",
   "metadata": {},
   "outputs": [
    {
     "data": {
      "text/plain": [
       "9895"
      ]
     },
     "execution_count": 23,
     "metadata": {},
     "output_type": "execute_result"
    }
   ],
   "source": [
    "# length of df_result\n",
    "df_result.count()"
   ]
  },
  {
   "cell_type": "code",
   "execution_count": 24,
   "id": "f67eeb92",
   "metadata": {},
   "outputs": [],
   "source": [
    "df_result.coalesce(1).write.parquet('data/report/revenue/', mode='overwrite')\n",
    "#coalesce(1) to reduce it to only one partition\n"
   ]
  },
  {
   "cell_type": "code",
   "execution_count": 27,
   "id": "f56a885d",
   "metadata": {},
   "outputs": [],
   "source": [
    "df_result.repartition(20).write.parquet('data/report/revenue/', mode='overwrite')"
   ]
  }
 ],
 "metadata": {
  "kernelspec": {
   "display_name": "data-eng-zc-gcp-aws-Y2KD2JE8",
   "language": "python",
   "name": "python3"
  },
  "language_info": {
   "codemirror_mode": {
    "name": "ipython",
    "version": 3
   },
   "file_extension": ".py",
   "mimetype": "text/x-python",
   "name": "python",
   "nbconvert_exporter": "python",
   "pygments_lexer": "ipython3",
   "version": "3.10.0"
  },
  "vscode": {
   "interpreter": {
    "hash": "35dc32dd66dc6a9570e9158145834b007d61225e6c3cc4f50904136dd8e8a457"
   }
  }
 },
 "nbformat": 4,
 "nbformat_minor": 5
}
